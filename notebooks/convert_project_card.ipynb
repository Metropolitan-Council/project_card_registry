{
 "cells": [
  {
   "cell_type": "markdown",
   "metadata": {},
   "source": [
    "This script is used to convert project cards to new format (v1)"
   ]
  },
  {
   "cell_type": "code",
   "execution_count": 11,
   "metadata": {},
   "outputs": [],
   "source": [
    "from pathlib import Path\n",
    "from projectcard.update import update_schema_for_card_file"
   ]
  },
  {
   "cell_type": "code",
   "execution_count": 12,
   "metadata": {},
   "outputs": [],
   "source": [
    "# project card directory where old project cards are saved\n",
    "input_pc_dir = Path(r\"Z:\\Met_Council\\31000743A\\Task 1 Consolidate Architecture\\consolidate_architecture\\project_card\\BaseAttribute\")\n",
    "\n",
    "# project card directory where new project cards should be saved\n",
    "output_pc_dir = Path(r\"Z:\\Met_Council\\31000743A\\Task 1 Consolidate Architecture\\consolidate_architecture\\project_card\\BaseAttribute_v1\")\n"
   ]
  },
  {
   "cell_type": "code",
   "execution_count": 14,
   "metadata": {},
   "outputs": [
    {
     "data": {
      "text/plain": [
       "[WindowsPath('Z:/Met_Council/Yue_temp/consolidate_architecture/test_project_card/test/394_Reverse_lanes_by_time_period.yml'),\n",
       " WindowsPath('Z:/Met_Council/Yue_temp/consolidate_architecture/test_project_card/test/394_Reverse_lane_onramp_MnPASS.yml')]"
      ]
     },
     "execution_count": 14,
     "metadata": {},
     "output_type": "execute_result"
    }
   ],
   "source": [
    "# save old project cards to a list\n",
    "card_files = list(Path(input_pc_dir).rglob(\"*.*[yY]*[mM][lL]\"))\n",
    "card_files"
   ]
  },
  {
   "cell_type": "code",
   "execution_count": 15,
   "metadata": {},
   "outputs": [],
   "source": [
    "# convert old project cards in the list to new format\n",
    "for p in card_files:\n",
    "    update_schema_for_card_file(p, output_pc_dir)"
   ]
  }
 ],
 "metadata": {
  "kernelspec": {
   "display_name": "Python 3.10.10 ('wrangler')",
   "language": "python",
   "name": "python3"
  },
  "language_info": {
   "codemirror_mode": {
    "name": "ipython",
    "version": 3
   },
   "file_extension": ".py",
   "mimetype": "text/x-python",
   "name": "python",
   "nbconvert_exporter": "python",
   "pygments_lexer": "ipython3",
   "version": "3.10.10"
  },
  "vscode": {
   "interpreter": {
    "hash": "07e586ca5a03bbc8bef8bfbd2ac9f2aadb8cef32dbebc83b2e3513fa036ee0ca"
   }
  }
 },
 "nbformat": 4,
 "nbformat_minor": 2
}
